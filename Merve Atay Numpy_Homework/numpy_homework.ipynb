{
 "cells": [
  {
   "cell_type": "code",
   "execution_count": 67,
   "metadata": {},
   "outputs": [],
   "source": [
    "import numpy as np\n",
    "\n",
    "#Numpy’da Vektor ve Matrisin farkini tek cumle ile ifade ediniz.\n",
    "#Vektörler, tek boyutlu matrislerdir."
   ]
  },
  {
   "cell_type": "code",
   "execution_count": 3,
   "metadata": {},
   "outputs": [
    {
     "data": {
      "text/plain": [
       "array([ 3,  4,  5,  6,  7,  8,  9, 10, 11, 12])"
      ]
     },
     "execution_count": 3,
     "metadata": {},
     "output_type": "execute_result"
    }
   ],
   "source": [
    "#10 elemanli bir listeden NumPy Array’i olusturunuz.\n",
    "a= [3,4,5,6,7,8,9,10,11,12]\n",
    "\n",
    "np.array(a)"
   ]
  },
  {
   "cell_type": "code",
   "execution_count": 4,
   "metadata": {},
   "outputs": [
    {
     "data": {
      "text/plain": [
       "array([[0, 0, 0, 0, 0, 0, 0, 0, 0, 0],\n",
       "       [0, 0, 0, 0, 0, 0, 0, 0, 0, 0],\n",
       "       [0, 0, 0, 0, 0, 0, 0, 0, 0, 0],\n",
       "       [0, 0, 0, 0, 0, 0, 0, 0, 0, 0],\n",
       "       [0, 0, 0, 0, 0, 0, 0, 0, 0, 0],\n",
       "       [0, 0, 0, 0, 0, 0, 0, 0, 0, 0],\n",
       "       [0, 0, 0, 0, 0, 0, 0, 0, 0, 0],\n",
       "       [0, 0, 0, 0, 0, 0, 0, 0, 0, 0],\n",
       "       [0, 0, 0, 0, 0, 0, 0, 0, 0, 0],\n",
       "       [0, 0, 0, 0, 0, 0, 0, 0, 0, 0]])"
      ]
     },
     "execution_count": 4,
     "metadata": {},
     "output_type": "execute_result"
    }
   ],
   "source": [
    "#Icerisinde ‘0’ lar olan, ve veri tipi integer olan 10X10’luk bir matris olusturunuz.\n",
    "np.zeros((10,10) ,dtype=int)"
   ]
  },
  {
   "cell_type": "code",
   "execution_count": 5,
   "metadata": {},
   "outputs": [
    {
     "data": {
      "text/plain": [
       "array([[1., 1., 1., 1., 1., 1., 1., 1., 1., 1.],\n",
       "       [1., 1., 1., 1., 1., 1., 1., 1., 1., 1.],\n",
       "       [1., 1., 1., 1., 1., 1., 1., 1., 1., 1.],\n",
       "       [1., 1., 1., 1., 1., 1., 1., 1., 1., 1.],\n",
       "       [1., 1., 1., 1., 1., 1., 1., 1., 1., 1.],\n",
       "       [1., 1., 1., 1., 1., 1., 1., 1., 1., 1.],\n",
       "       [1., 1., 1., 1., 1., 1., 1., 1., 1., 1.],\n",
       "       [1., 1., 1., 1., 1., 1., 1., 1., 1., 1.],\n",
       "       [1., 1., 1., 1., 1., 1., 1., 1., 1., 1.],\n",
       "       [1., 1., 1., 1., 1., 1., 1., 1., 1., 1.]])"
      ]
     },
     "execution_count": 5,
     "metadata": {},
     "output_type": "execute_result"
    }
   ],
   "source": [
    "#Icerisinde ‘1’ ler olan, veri tipi float olan 10X10’luk bir matris olusturunuz.\n",
    "np.ones((10,10),dtype=float)"
   ]
  },
  {
   "cell_type": "code",
   "execution_count": 6,
   "metadata": {},
   "outputs": [
    {
     "data": {
      "text/plain": [
       "array([[9, 9, 9, 9, 9, 9, 9, 9, 9, 9],\n",
       "       [9, 9, 9, 9, 9, 9, 9, 9, 9, 9],\n",
       "       [9, 9, 9, 9, 9, 9, 9, 9, 9, 9],\n",
       "       [9, 9, 9, 9, 9, 9, 9, 9, 9, 9],\n",
       "       [9, 9, 9, 9, 9, 9, 9, 9, 9, 9],\n",
       "       [9, 9, 9, 9, 9, 9, 9, 9, 9, 9],\n",
       "       [9, 9, 9, 9, 9, 9, 9, 9, 9, 9],\n",
       "       [9, 9, 9, 9, 9, 9, 9, 9, 9, 9],\n",
       "       [9, 9, 9, 9, 9, 9, 9, 9, 9, 9],\n",
       "       [9, 9, 9, 9, 9, 9, 9, 9, 9, 9]])"
      ]
     },
     "execution_count": 6,
     "metadata": {},
     "output_type": "execute_result"
    }
   ],
   "source": [
    "#Icerisinde ‘9’ lar olan, veri tipi integer olan 10X10’luk bir matris olusturunuz.\n",
    "np.full((10,10) , 9 ,dtype=int)"
   ]
  },
  {
   "cell_type": "code",
   "execution_count": 7,
   "metadata": {},
   "outputs": [
    {
     "data": {
      "text/plain": [
       "array([ 5,  8, 11, 14, 17, 20, 23])"
      ]
     },
     "execution_count": 7,
     "metadata": {},
     "output_type": "execute_result"
    }
   ],
   "source": [
    "#5 ile 25 arasinda, 3’er 3’er atlayan tek boyutlu bir Array olusturunuz.\n",
    "np.arange(5,25,3)"
   ]
  },
  {
   "cell_type": "code",
   "execution_count": 176,
   "metadata": {},
   "outputs": [
    {
     "ename": "ValueError",
     "evalue": "negative dimensions are not allowed",
     "output_type": "error",
     "traceback": [
      "\u001b[1;31m---------------------------------------------------------------------------\u001b[0m",
      "\u001b[1;31mValueError\u001b[0m                                Traceback (most recent call last)",
      "\u001b[1;32mc:\\Users\\merve\\VSCODE INFOTECHACADEMY\\Python_InfoAcademy\\Numpy\\numpy_homework.ipynb Cell 7'\u001b[0m in \u001b[0;36m<cell line: 3>\u001b[1;34m()\u001b[0m\n\u001b[0;32m      <a href='vscode-notebook-cell:/c%3A/Users/merve/VSCODE%20INFOTECHACADEMY/Python_InfoAcademy/Numpy/numpy_homework.ipynb#ch0000009?line=0'>1</a>\u001b[0m \u001b[39m#-1 ile 1 arasinda 30 adet Array olusturunuz.\u001b[39;00m\n\u001b[1;32m----> <a href='vscode-notebook-cell:/c%3A/Users/merve/VSCODE%20INFOTECHACADEMY/Python_InfoAcademy/Numpy/numpy_homework.ipynb#ch0000009?line=2'>3</a>\u001b[0m np\u001b[39m.\u001b[39;49mrandom\u001b[39m.\u001b[39;49mrand(\u001b[39m-\u001b[39;49m\u001b[39m1\u001b[39;49m,\u001b[39m1\u001b[39;49m)\n",
      "File \u001b[1;32mmtrand.pyx:1182\u001b[0m, in \u001b[0;36mnumpy.random.mtrand.RandomState.rand\u001b[1;34m()\u001b[0m\n",
      "File \u001b[1;32mmtrand.pyx:425\u001b[0m, in \u001b[0;36mnumpy.random.mtrand.RandomState.random_sample\u001b[1;34m()\u001b[0m\n",
      "File \u001b[1;32m_common.pyx:292\u001b[0m, in \u001b[0;36mnumpy.random._common.double_fill\u001b[1;34m()\u001b[0m\n",
      "\u001b[1;31mValueError\u001b[0m: negative dimensions are not allowed"
     ]
    }
   ],
   "source": [
    "#-1 ile 1 arasinda 30 adet Array olusturunuz.\n",
    "\n"
   ]
  },
  {
   "cell_type": "code",
   "execution_count": 16,
   "metadata": {},
   "outputs": [
    {
     "data": {
      "text/plain": [
       "array([[ 0,  1,  2,  3,  4,  5],\n",
       "       [ 6,  7,  8,  9, 10, 11],\n",
       "       [12, 13, 14, 15, 16, 17],\n",
       "       [18, 19, 20, 21, 22, 23],\n",
       "       [24, 25, 26, 27, 28, 29]])"
      ]
     },
     "execution_count": 16,
     "metadata": {},
     "output_type": "execute_result"
    }
   ],
   "source": [
    "#0 ile 30 arasinda 5x6’lik bir matris olusturun.\n",
    "np.arange(0,30).reshape(5,6)"
   ]
  },
  {
   "cell_type": "code",
   "execution_count": 21,
   "metadata": {},
   "outputs": [
    {
     "data": {
      "text/plain": [
       "array([[1, 0, 0, 0, 0, 0, 0, 0, 0, 0],\n",
       "       [0, 1, 0, 0, 0, 0, 0, 0, 0, 0],\n",
       "       [0, 0, 1, 0, 0, 0, 0, 0, 0, 0],\n",
       "       [0, 0, 0, 1, 0, 0, 0, 0, 0, 0],\n",
       "       [0, 0, 0, 0, 1, 0, 0, 0, 0, 0],\n",
       "       [0, 0, 0, 0, 0, 1, 0, 0, 0, 0],\n",
       "       [0, 0, 0, 0, 0, 0, 1, 0, 0, 0],\n",
       "       [0, 0, 0, 0, 0, 0, 0, 1, 0, 0],\n",
       "       [0, 0, 0, 0, 0, 0, 0, 0, 1, 0],\n",
       "       [0, 0, 0, 0, 0, 0, 0, 0, 0, 1]])"
      ]
     },
     "execution_count": 21,
     "metadata": {},
     "output_type": "execute_result"
    }
   ],
   "source": [
    "#Kosegenleri 1 olan 10x10’luk bir matris olusturunuz.\n",
    "np.eye(10,10,dtype=int)"
   ]
  },
  {
   "cell_type": "code",
   "execution_count": 31,
   "metadata": {},
   "outputs": [
    {
     "name": "stdout",
     "output_type": "stream",
     "text": [
      "[[8 7 0 0 8 9 8 4 8 6]\n",
      " [8 1 6 1 8 8 5 6 7 0]\n",
      " [6 6 0 7 7 8 5 4 0 5]\n",
      " [6 7 6 3 3 4 3 4 2 3]\n",
      " [6 5 1 9 9 6 4 3 9 8]]\n",
      "50\n",
      "2\n",
      "(5, 10)\n",
      "int32\n"
     ]
    }
   ],
   "source": [
    "#0 ile 10 arasinda 5x10’lik bir matris olusturun. (integer) ve bu matrisin; \n",
    "b=np.random.randint(0,10,(5,10),dtype=int)\n",
    "print(b)\n",
    "# • eleman sayisini \n",
    "print(b.size)\n",
    "\n",
    "# • boyut bilgisini/sayisini \n",
    "print(b.ndim)\n",
    "\n",
    "# • satir X sutun bilgisini \n",
    "print(b.shape)\n",
    "\n",
    "# • veri tipini numpy metodlariyla yazdiriniz.\n",
    "print(b.dtype)\n"
   ]
  },
  {
   "cell_type": "code",
   "execution_count": 33,
   "metadata": {},
   "outputs": [
    {
     "data": {
      "text/plain": [
       "array([[[7, 1, 9, 1, 1, 2, 8],\n",
       "        [3, 1, 4, 6, 7, 3, 7],\n",
       "        [0, 6, 2, 1, 9, 2, 3],\n",
       "        [5, 8, 1, 8, 5, 2, 2]],\n",
       "\n",
       "       [[5, 2, 9, 6, 1, 0, 6],\n",
       "        [1, 8, 0, 1, 8, 3, 5],\n",
       "        [9, 8, 2, 2, 8, 8, 0],\n",
       "        [2, 2, 3, 3, 0, 6, 8]],\n",
       "\n",
       "       [[1, 3, 4, 5, 9, 2, 0],\n",
       "        [5, 4, 1, 7, 8, 8, 5],\n",
       "        [1, 5, 4, 1, 3, 6, 6],\n",
       "        [0, 7, 8, 3, 6, 2, 9]]])"
      ]
     },
     "execution_count": 33,
     "metadata": {},
     "output_type": "execute_result"
    }
   ],
   "source": [
    "#0 ile 10 arasindaki degerlerden olusan 3 adet 4x7’lik bir matris olusturunuz. (3 boyutlu bir matris olusturulacak)\n",
    "np.random.randint(0,10,(3,4,7),dtype=int)"
   ]
  },
  {
   "cell_type": "code",
   "execution_count": 45,
   "metadata": {},
   "outputs": [
    {
     "name": "stdout",
     "output_type": "stream",
     "text": [
      "[ 1  2  3  4  5  6  7  8  9 10 11 12]\n",
      "[[ 1  2  3  4]\n",
      " [ 5  6  7  8]\n",
      " [ 9 10 11 12]]\n"
     ]
    }
   ],
   "source": [
    "#Bir vektor olusturunuz ve daha sonrasinda ayni vektoru bir matrise ceviriniz. (boyut sayisini degistirin.)\n",
    "c=np.arange(1,13)\n",
    "print(c)\n",
    "print(c.reshape(3,4))\n"
   ]
  },
  {
   "cell_type": "code",
   "execution_count": 49,
   "metadata": {},
   "outputs": [
    {
     "name": "stdout",
     "output_type": "stream",
     "text": [
      "[ 1  2  3  2  3  4  5  6  7  8  9 10 11  1  2  3  4  5]\n"
     ]
    }
   ],
   "source": [
    "#4 tane ayri tek boyutlu array’i birlestirerek bir array olusturunuz.#\n",
    "e=np.arange(1,4)\n",
    "f=np.arange(2,8)\n",
    "g=np.arange(8,12)\n",
    "h=np.arange(1,6)\n",
    "\n",
    "print(np.concatenate([e,f,g,h]))"
   ]
  },
  {
   "cell_type": "code",
   "execution_count": 62,
   "metadata": {},
   "outputs": [
    {
     "name": "stdout",
     "output_type": "stream",
     "text": [
      "[[7]\n",
      " [8]\n",
      " [9]]\n",
      "[[1 2]\n",
      " [3 4]\n",
      " [5 6]]\n"
     ]
    },
    {
     "data": {
      "text/plain": [
       "array([[7, 1, 2],\n",
       "       [8, 3, 4],\n",
       "       [9, 5, 6]])"
      ]
     },
     "execution_count": 62,
     "metadata": {},
     "output_type": "execute_result"
    }
   ],
   "source": [
    "#2 boyutlu bir vektor ve bir matris olusturun(ayri ayri), bu iki arrayi numpy metodlarini kullanarak sutun bazli birlestiriniz.\n",
    "i=np.arange(7,10).reshape(3,1)\n",
    "print(i)\n",
    "j=np.arange(1,7).reshape(3,2)\n",
    "print(j)\n",
    "np.concatenate([i,j], axis=1)"
   ]
  },
  {
   "cell_type": "code",
   "execution_count": null,
   "metadata": {},
   "outputs": [],
   "source": [
    "#Numpy’da “axis=1” ve “axis=0” arasinda ne fark vardir. Teorik olarak yaziniz?\n",
    "# axis= 0 : satir bazli\n",
    "# axis= 1 : sütun bazli"
   ]
  },
  {
   "cell_type": "code",
   "execution_count": 74,
   "metadata": {},
   "outputs": [
    {
     "name": "stdout",
     "output_type": "stream",
     "text": [
      "[[ 1  2]\n",
      " [ 3  4]\n",
      " [ 5  6]\n",
      " [ 7  8]\n",
      " [ 9 10]\n",
      " [11 12]]\n",
      "[[ 1  2  7  8]\n",
      " [ 3  4  9 10]\n",
      " [ 5  6 11 12]]\n"
     ]
    }
   ],
   "source": [
    "#Farkli boyutlardaki arraylari satir ve sutun bazli ayri ayri birlestiriniz.\n",
    "k=np.arange(1,7).reshape(3,2)\n",
    "l=np.arange(7,13).reshape(3,2)\n",
    "print(np.concatenate([k,l], axis=0))\n",
    "print(np.concatenate([k,l], axis=1))"
   ]
  },
  {
   "cell_type": "code",
   "execution_count": 78,
   "metadata": {},
   "outputs": [
    {
     "data": {
      "text/plain": [
       "[array([1, 2]), array([3, 4]), array([5, 6]), array([7, 8]), array([ 9, 10])]"
      ]
     },
     "execution_count": 78,
     "metadata": {},
     "output_type": "execute_result"
    }
   ],
   "source": [
    "#10 elemanli bi liste olusturunuz ve bu listeyi Numpy metodlariyla bolerek(split) 5 ayri array olusturunuz.\n",
    "m=np.arange(1,11)\n",
    "np.split(m, [2,4,6,8])"
   ]
  },
  {
   "cell_type": "code",
   "execution_count": 82,
   "metadata": {},
   "outputs": [
    {
     "name": "stdout",
     "output_type": "stream",
     "text": [
      "[ 3  2  5 77  6 43  5 12]\n",
      "[ 2  3  5  5  6 12 43 77]\n",
      "2 elemaninin n listesinde indexi : 1\n",
      "3 elemaninin n listesinde indexi : 0\n",
      "5 elemaninin n listesinde indexi : 2\n",
      "5 elemaninin n listesinde indexi : 6\n",
      "5 elemaninin n listesinde indexi : 2\n",
      "5 elemaninin n listesinde indexi : 6\n",
      "6 elemaninin n listesinde indexi : 4\n",
      "12 elemaninin n listesinde indexi : 7\n",
      "43 elemaninin n listesinde indexi : 5\n",
      "77 elemaninin n listesinde indexi : 3\n"
     ]
    }
   ],
   "source": [
    "# Random bir array olusturunuz ve bu arrayi buyukten kucuge dogru siralayiniz.\n",
    "# Ve bu siralamadan sonra hangi elemanin hangi indexte oldugunu gosteren bir metod uygulayiniz.\n",
    "\n",
    "n= np.array([3,2,5,77,6,43,5,12])\n",
    "n_sort= np.sort(n)\n",
    "\n",
    "print(n)    #n'de siralama degismedi!\n",
    "print(n_sort)\n",
    "\n",
    "for i in range(len(n_sort)):\n",
    "    for j in range(len(n)):\n",
    "        if n_sort[i] ==  n[j]:\n",
    "            print(f\"{n_sort[i]} elemaninin n listesinde indexi : {j}\")\n",
    "    "
   ]
  },
  {
   "cell_type": "code",
   "execution_count": 92,
   "metadata": {},
   "outputs": [
    {
     "name": "stdout",
     "output_type": "stream",
     "text": [
      "[17 12 16 22 29  4  5  0 11 16  2 28  1 27  3 15  7 26 14 13]\n",
      "22 4 0\n"
     ]
    }
   ],
   "source": [
    "#20 elemanli random bir vektor olusturunuz. Bu vektorun 3. 5. ve 7. elemanlarina ulasin.\n",
    "p=np.random.randint(0,30,20)\n",
    "print(p)\n",
    "print(p[3], p[5], p[7])"
   ]
  },
  {
   "cell_type": "code",
   "execution_count": 94,
   "metadata": {},
   "outputs": [
    {
     "name": "stdout",
     "output_type": "stream",
     "text": [
      "[18  3  7  4  9  8  2 13  2 10]\n",
      "[18  3  7  4 99  8  2 13  2 10]\n"
     ]
    }
   ],
   "source": [
    "#10 elemanli random bir vektor olusturunuz ve bu arrayin 4. elemanini farkli bir sayiyla degistiriniz.\n",
    "r=np.random.randint(0,20,10)\n",
    "print(r)\n",
    "r[4]=99\n",
    "print(r)"
   ]
  },
  {
   "cell_type": "code",
   "execution_count": null,
   "metadata": {},
   "outputs": [],
   "source": [
    "#“Diagonal Matrix” ve “Trace of Matrix” kavramlari hakkinda kucuk bir arastirma yapip bunlarin ne oldugunu belirten kucuk bir aciklama yaziniz.\n",
    "\n",
    "#Bir kare matriste asal köşegen üzerindeki elemanların dışında kalan tüm elemanlar sıfır ise bu matris diagonaldir.\n",
    "#Bir kare matrisin köşegen üzerindeki elemanların toplamıdır."
   ]
  },
  {
   "cell_type": "code",
   "execution_count": 101,
   "metadata": {},
   "outputs": [
    {
     "name": "stdout",
     "output_type": "stream",
     "text": [
      "[2 4 0 5 2]\n",
      "[[2 0 0 0 0]\n",
      " [0 4 0 0 0]\n",
      " [0 0 0 0 0]\n",
      " [0 0 0 5 0]\n",
      " [0 0 0 0 2]]\n",
      "s_diag[0, 0] : 2\n",
      "s_diag[1, 1] : 4\n",
      "s_diag[2, 2] : 0\n",
      "s_diag[3, 3] : 5\n",
      "s_diag[4, 4] : 2\n"
     ]
    }
   ],
   "source": [
    "#5x5’lik Diagonal bir matris olusturunuz ve Diagonaline denk gelen indexlere ulasiniz.(ayri ayri)\n",
    "s=np.random.randint(0,10,5)\n",
    "print(s)\n",
    "s_diag= np.diag(s)\n",
    "print(s_diag)\n",
    "\n",
    "for i in range(len(s_diag)):\n",
    "    print(f's_diag{[i,i]} :' , s_diag[i,i])"
   ]
  },
  {
   "cell_type": "code",
   "execution_count": 106,
   "metadata": {},
   "outputs": [
    {
     "name": "stdout",
     "output_type": "stream",
     "text": [
      "[10 11 12 13 14 15 16 17 18 19]\n"
     ]
    },
    {
     "data": {
      "text/plain": [
       "array([13, 14, 15, 16, 17, 18, 19])"
      ]
     },
     "execution_count": 106,
     "metadata": {},
     "output_type": "execute_result"
    }
   ],
   "source": [
    "#10 ile 20 arasinda bir vektor olusturunuz. Ve 3. indexten son indexe kadar olan degerleri yazdiriniz.\n",
    "\n",
    "t=np.arange(10,20)\n",
    "print(t)\n",
    "t[3::]"
   ]
  },
  {
   "cell_type": "code",
   "execution_count": 133,
   "metadata": {},
   "outputs": [
    {
     "name": "stdout",
     "output_type": "stream",
     "text": [
      "[[18  6 18 19  4  8 12  4  7  7]\n",
      " [13 19 13  5  8 13  1 15 17 11]\n",
      " [11 11  6 15  6  2  3 11 17 19]\n",
      " [ 6 15  6 12  6 18  1  6  7 12]\n",
      " [16  7 14 19  9 18  5  5  2 18]\n",
      " [18  2 14 12  1  2 12  1 12  5]\n",
      " [10  7 17 18  9 19 19 11 13  5]\n",
      " [ 6 11 15 12 17  9 11  1  2  2]\n",
      " [10  8 17 14 16  5  1  0  2 12]\n",
      " [ 8  2 15 18 14 13  3  0 11  4]]\n"
     ]
    }
   ],
   "source": [
    "#10X10 luk bir matris olusturunuz ve ; \n",
    "u=np.random.randint(0,20,[10,10])\n",
    "print(u)"
   ]
  },
  {
   "cell_type": "code",
   "execution_count": 134,
   "metadata": {},
   "outputs": [
    {
     "name": "stdout",
     "output_type": "stream",
     "text": [
      "6\n",
      "--------------------------------------------------\n",
      "[ 4  8  6  6  9  1  9 17 16 14]\n",
      "--------------------------------------------------\n",
      "[13 19 13  5  8 13  1 15 17 11]\n",
      "--------------------------------------------------\n",
      "[[11 11  6 15  6  2  3 11 17 19]\n",
      " [ 6 15  6 12  6 18  1  6  7 12]\n",
      " [16  7 14 19  9 18  5  5  2 18]\n",
      " [18  2 14 12  1  2 12  1 12  5]]\n",
      "--------------------------------------------------\n"
     ]
    }
   ],
   "source": [
    "# • 3.satir ve 5.sutuna ulasiniz. \n",
    "print(u[2,4])\n",
    "print(50*'-')\n",
    "# • 5.sutunun tum satirlarina ulasiniz.\n",
    "print(u[:,4])\n",
    "print(50*'-')\n",
    "# • Tum sutunlarin 2.satirlarina ulasiniz. \n",
    "print(u[1,:])\n",
    "print(50*'-')\n",
    "# • Tum sutunlarin 2 ile 7 arasindaki satirlarina ulasiniz. \n",
    "print(u[2:6, :])\n",
    "print(50*'-')"
   ]
  },
  {
   "cell_type": "code",
   "execution_count": 135,
   "metadata": {},
   "outputs": [
    {
     "name": "stdout",
     "output_type": "stream",
     "text": [
      "[[13  5  8 13]\n",
      " [ 6 15  6  2]\n",
      " [ 6 12  6 18]]\n",
      "--------------------------------------------------\n",
      "[[16 19  5 18]\n",
      " [18 12 12  5]\n",
      " [10 18 19  5]\n",
      " [ 6 12 11  2]\n",
      " [10 14  1 12]\n",
      " [ 8 18  3  4]]\n",
      "--------------------------------------------------\n",
      "[[18  8  7]\n",
      " [13 13 17]\n",
      " [ 6  2 17]\n",
      " [ 6 18  7]\n",
      " [14 18  2]\n",
      " [14  2 12]\n",
      " [17 19 13]\n",
      " [15  9  2]\n",
      " [17  5  2]\n",
      " [15 13 11]]\n",
      "--------------------------------------------------\n",
      "[  18    2   14   12    1 1986   12    1   12    5]\n"
     ]
    }
   ],
   "source": [
    "# • Satir indexi 2’den 5’e ve sutun indexi 3 den 7’ye kadar olan degerlere ulasiniz. \n",
    "print(u[1:4 , 2:6])\n",
    "print(50*'-')\n",
    "# • Satir indexi 5’den en sona ve sutun indexi en bastan 4’e kadar olan degerlere ulasiniz. \n",
    "print(u[4::,::3])\n",
    "print(50*'-')\n",
    "# • Sutun indexi sadece 3, 6, 9 olan kolonlarin(sutunlarin), tum satirlarina ulasiniz. \n",
    "print(u[:,[2,5,8]])\n",
    "print(50*'-')\n",
    "# • 5.indexli satir ve 5.indexli sutuna denk gelen degeri, dogum yilinizla degistiriniz.\n",
    "u[5,5]= 1986\n",
    "print(u[5,:])\n"
   ]
  },
  {
   "cell_type": "code",
   "execution_count": 137,
   "metadata": {},
   "outputs": [
    {
     "data": {
      "text/plain": [
       "array([ 0,  5, 10, 15, 20, 25, 30, 35, 40, 45])"
      ]
     },
     "execution_count": 137,
     "metadata": {},
     "output_type": "execute_result"
    }
   ],
   "source": [
    "# 0’dan 50’ye kadar 5’er 5’er atlayarak giden bir array olusturunuz(tek boyutlu) ve numpy metodlariyla asagidaki islemleri uygulayin;\n",
    "\n",
    "v=np.arange(0,50,5)\n",
    "v"
   ]
  },
  {
   "cell_type": "code",
   "execution_count": 147,
   "metadata": {},
   "outputs": [
    {
     "name": "stdout",
     "output_type": "stream",
     "text": [
      "20'den büyük deger sayisi 5\n",
      "30'den büyük deger sayisi 6\n",
      "33'e esit deger sayisi 0\n",
      "[  0  25  50  75 100 125 150 175 200 225]\n",
      "[0 1 0 1 0 1 0 1 0 1]\n"
     ]
    }
   ],
   "source": [
    "# • 20 den buyuk olan kac deger var?\n",
    "print(f\"20'den büyük deger sayisi {v[v>20].size}\")\n",
    "# • 30’dan kucuk kac deger var?\n",
    "print(f\"30'den büyük deger sayisi {v[v<30].size}\")\n",
    "# • icerisinde 33 gecen kac deger var?\n",
    "print(f\"33'e esit deger sayisi {v[v==33].size}\")\n",
    "# • olusturulan arrayin tum elemanlarini 5 ile carpin.\n",
    "print(v*5)\n",
    "# • olusturulan arrayin tum elemanlarinin 2 ile bolumunden kalanlari yazdiriniz.\n",
    "print(v%2)"
   ]
  },
  {
   "cell_type": "code",
   "execution_count": 162,
   "metadata": {},
   "outputs": [
    {
     "name": "stdout",
     "output_type": "stream",
     "text": [
      "[0.         0.02040816 0.04081633 0.06122449 0.08163265 0.10204082\n",
      " 0.12244898 0.14285714 0.16326531 0.18367347 0.20408163 0.2244898\n",
      " 0.24489796 0.26530612 0.28571429 0.30612245 0.32653061 0.34693878\n",
      " 0.36734694 0.3877551  0.40816327 0.42857143 0.44897959 0.46938776\n",
      " 0.48979592 0.51020408 0.53061224 0.55102041 0.57142857 0.59183673\n",
      " 0.6122449  0.63265306 0.65306122 0.67346939 0.69387755 0.71428571\n",
      " 0.73469388 0.75510204 0.7755102  0.79591837 0.81632653 0.83673469\n",
      " 0.85714286 0.87755102 0.89795918 0.91836735 0.93877551 0.95918367\n",
      " 0.97959184 1.        ]\n",
      "Mean:  0.5\n",
      "Std:  0.2945075446869757\n",
      "Variance:  0.086734693877551\n",
      "Median:  0.5\n",
      "Min:  0.0\n",
      "Max:  1.0\n"
     ]
    }
   ],
   "source": [
    "#0 ile 1 arasinda 50 elamanli bir array olusturunuz ve;\n",
    "y=np.linspace(0,1,50)\n",
    "print(y)\n",
    "# • orlamasini aliniz. \n",
    "print('Mean: ' , np.mean(y))\n",
    "# • standart sapmasini aliniz. \n",
    "print('Std: ' , np.std(y))\n",
    "# • varyansini aliniz. \n",
    "print('Variance: ' , np.var(y))\n",
    "# • median’ini aliniz. \n",
    "print('Median: ' , np.median(y))\n",
    "# • en kucuk degeri bulunuz. \n",
    "print('Min: ' , np.min(y))\n",
    "# • en buyuk degeri bulunuz. \n",
    "print('Max: ' , np.max(y))\n"
   ]
  },
  {
   "cell_type": "code",
   "execution_count": null,
   "metadata": {},
   "outputs": [],
   "source": [
    "# Master odev ; Bir dongu icerisinde random olacak sekilde iki tane 20x20’luk matris uretin ve bu matrislerin farklarini alin. \n",
    "# Ve fark matrisinin diagonali, -0.1 ile 0.1 arasinda olana kadar bu islemi tekrarlayin. \n",
    "# Istenilen matris bulundugunda program dursun ve toplam kac dongunun kuruldugunu, \n",
    "# ne kadar sure icinde buldugunu ve istenilen matrisi print ile birlikte ekrana yazdiriniz... \n",
    "# Tavsiye: 20 x 20 luk matrisin bulunmasi saatler surebilir. \n",
    "# Bu yuzden algoritmanizin dogrulugunu test etmek icin once 4x4, 5x5 gibi kucuk matrislerde deneyebilirsiniz.\n",
    "# Ve matris sayisisini arttirarak en son 20x20 u deneyebilirsiniz."
   ]
  },
  {
   "cell_type": "code",
   "execution_count": 194,
   "metadata": {},
   "outputs": [
    {
     "name": "stdout",
     "output_type": "stream",
     "text": [
      "[[0.52300101 0.15093834 0.83714388 0.21457231 0.5095156 ]\n",
      " [0.61868513 0.32562673 0.48078934 0.23672412 0.88170866]\n",
      " [0.29967877 0.54585989 0.55953169 0.278044   0.05476821]\n",
      " [0.60920819 0.22079346 0.86654889 0.19809113 0.77122491]\n",
      " [0.09646226 0.14797462 0.1917742  0.1899789  0.51346388]]\n",
      "[[0.63678097 0.8650806  0.73886724 0.13843919 0.51195022]\n",
      " [0.22499985 0.79499119 0.87967045 0.83888745 0.66421572]\n",
      " [0.86172754 0.01897503 0.54605359 0.72109093 0.74287819]\n",
      " [0.99699694 0.1224021  0.36634059 0.39146645 0.36171829]\n",
      " [0.66349464 0.15559818 0.92419393 0.75297869 0.63576523]]\n",
      "[[-0.11377997 -0.71414226  0.09827664  0.07613313 -0.00243462]\n",
      " [ 0.39368527 -0.46936446 -0.39888112 -0.60216333  0.21749294]\n",
      " [-0.56204877  0.52688486  0.0134781  -0.44304693 -0.68810997]\n",
      " [-0.38778876  0.09839136  0.50020829 -0.19337532  0.40950662]\n",
      " [-0.56703238 -0.00762356 -0.73241973 -0.56299979 -0.12230134]]\n"
     ]
    }
   ],
   "source": [
    "x=np.random.rand(5,5)\n",
    "y=np.random.rand(5,5)\n",
    "print(x)\n",
    "print(y)\n",
    "print(x-y)"
   ]
  },
  {
   "cell_type": "code",
   "execution_count": 8,
   "metadata": {},
   "outputs": [
    {
     "name": "stdout",
     "output_type": "stream",
     "text": [
      "2022-06-10 05:58:56.924282\n",
      "[[ 0.03960991  0.42123998 -0.24723164 -0.15934295 -0.33332144]\n",
      " [-0.44716988  0.03313372 -0.20934631 -0.02455545 -0.11275472]\n",
      " [ 0.61593386  0.05307037  0.00888838 -0.33314471  0.28926202]\n",
      " [ 0.54477093  0.07777432  0.38679722 -0.01033864 -0.34771087]\n",
      " [ 0.69871231 -0.18446275  0.41773799  0.08478871 -0.08801052]]\n",
      "counter:  3299\n",
      "process_time:  0:00:00.041196\n"
     ]
    }
   ],
   "source": [
    "import numpy as np\n",
    "import datetime\n",
    "\n",
    "start=datetime.datetime.now()\n",
    "print(start)\n",
    "\n",
    "i=0\n",
    "#process = True\n",
    "\n",
    "while True:\n",
    "    l=[]\n",
    "    x=np.random.rand(5,5)\n",
    "    y=np.random.rand(5,5)\n",
    "    z=np.diag(x-y)\n",
    "    i+=1\n",
    "    \n",
    "    for j in z:\n",
    "        if -0.1 < j < 0.1:\n",
    "            l.append(j)\n",
    "            #if len(l) == 5:\n",
    "                #print(x-y)\n",
    "                #break\n",
    "    \n",
    "    if len(l) == 5:\n",
    "        print(x-y)\n",
    "        break\n",
    "    \n",
    "print('counter: ' , i)\n",
    "    \n",
    "end=datetime.datetime.now()\n",
    "process_time=end-start\n",
    "print('process_time: ', process_time)"
   ]
  }
 ],
 "metadata": {
  "interpreter": {
   "hash": "9c97c374984bec537f42ae1fa77489d56dfd6b74b54d8c57c2cc0fb4bb759dd2"
  },
  "kernelspec": {
   "display_name": "Python 3.9.11 64-bit",
   "language": "python",
   "name": "python3"
  },
  "language_info": {
   "codemirror_mode": {
    "name": "ipython",
    "version": 3
   },
   "file_extension": ".py",
   "mimetype": "text/x-python",
   "name": "python",
   "nbconvert_exporter": "python",
   "pygments_lexer": "ipython3",
   "version": "3.9.11"
  },
  "orig_nbformat": 4
 },
 "nbformat": 4,
 "nbformat_minor": 2
}
